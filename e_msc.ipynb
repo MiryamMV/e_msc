{
 "cells": [
  {
   "cell_type": "code",
   "execution_count": 1,
   "metadata": {},
   "outputs": [],
   "source": [
    "import pandas as pd\n",
    "import numpy  as np\n",
    "\n",
    "from math   import sqrt\n",
    "from typing import List"
   ]
  },
  {
   "cell_type": "code",
   "execution_count": 2,
   "metadata": {},
   "outputs": [],
   "source": [
    "datafiles = [\"data/test.csv\"]\n",
    "             #\"data/e-_2500keV_defaults.csv\",\n",
    "             #\"data/e-_2500keV_sl1.0mm.csv\" , \n",
    "             #\"data/e-_2500keV_rf0.008.csv\" ,\n",
    "             #\"data/e-_2500keV_rf0.001.csv\" ]"
   ]
  },
  {
   "cell_type": "code",
   "execution_count": 3,
   "metadata": {},
   "outputs": [],
   "source": [
    "dfs = [pd.read_csv(f, header=0) for f in datafiles]\n",
    "df = dfs[0]"
   ]
  },
  {
   "cell_type": "code",
   "execution_count": 4,
   "metadata": {},
   "outputs": [
    {
     "data": {
      "text/plain": [
       "<matplotlib.axes._subplots.AxesSubplot at 0x11be584d0>"
      ]
     },
     "execution_count": 4,
     "metadata": {},
     "output_type": "execute_result"
    },
    {
     "data": {
      "image/png": "[encoded data removed]",
      "text/plain": [
       "<Figure size 432x288 with 1 Axes>"
      ]
     },
     "metadata": {
      "needs_background": "light"
     },
     "output_type": "display_data"
    }
   ],
   "source": [
    "df['step_length'].plot.hist(bins=50, histtype='step')"
   ]
  },
  {
   "cell_type": "code",
   "execution_count": 5,
   "metadata": {
    "scrolled": true
   },
   "outputs": [
    {
     "data": {
      "text/plain": [
       "<matplotlib.axes._subplots.AxesSubplot at 0x11c066b90>"
      ]
     },
     "execution_count": 5,
     "metadata": {},
     "output_type": "execute_result"
    },
    {
     "data": {
      "image/png": "[encoded data removed]",
      "text/plain": [
       "<Figure size 432x288 with 1 Axes>"
      ]
     },
     "metadata": {
      "needs_background": "light"
     },
     "output_type": "display_data"
    }
   ],
   "source": [
    "df['track_length'] = df.groupby('event_number')['step_length'].cumsum()\n",
    "df.groupby('event_number')['track_length'].nth(-1).plot.hist(bins=100, histtype='step', density=True)"
   ]
  },
  {
   "cell_type": "code",
   "execution_count": 6,
   "metadata": {},
   "outputs": [],
   "source": [
    "dist = pd.DataFrame({'xdist': df.groupby('event_number')['X'].max() - df.groupby('event_number')['X'].min(), \n",
    "                     'ydist': df.groupby('event_number')['Y'].max() - df.groupby('event_number')['Y'].min(), \n",
    "                     'zdist': df.groupby('event_number')['Y'].max() - df.groupby('event_number')['Y'].min()})"
   ]
  },
  {
   "cell_type": "code",
   "execution_count": 7,
   "metadata": {},
   "outputs": [
    {
     "data": {
      "text/plain": [
       "<matplotlib.axes._subplots.AxesSubplot at 0x11b444a10>"
      ]
     },
     "execution_count": 7,
     "metadata": {},
     "output_type": "execute_result"
    },
    {
     "data": {
      "image/png": "[encoded data removed]",
      "text/plain": [
       "<Figure size 432x288 with 1 Axes>"
      ]
     },
     "metadata": {
      "needs_background": "light"
     },
     "output_type": "display_data"
    }
   ],
   "source": [
    "def diagonal(row):\n",
    "    return sqrt(row['xdist']**2 + row['ydist']**2 + row['zdist']**2)\n",
    "dist['diag'] = dist.apply(diagonal, axis=1)\n",
    "dist['diag'].plot.hist(bins=50, histtype='step', density=True)"
   ]
  },
  {
   "cell_type": "code",
   "execution_count": 8,
   "metadata": {},
   "outputs": [
    {
     "data": {
      "text/html": [
       "<div>\n",
       "<style scoped>\n",
       "    .dataframe tbody tr th:only-of-type {\n",
       "        vertical-align: middle;\n",
       "    }\n",
       "\n",
       "    .dataframe tbody tr th {\n",
       "        vertical-align: top;\n",
       "    }\n",
       "\n",
       "    .dataframe thead th {\n",
       "        text-align: right;\n",
       "    }\n",
       "</style>\n",
       "<table border=\"1\" class=\"dataframe\">\n",
       "  <thead>\n",
       "    <tr style=\"text-align: right;\">\n",
       "      <th></th>\n",
       "      <th>event_number</th>\n",
       "      <th>step_number</th>\n",
       "      <th>X</th>\n",
       "      <th>Y</th>\n",
       "      <th>Z</th>\n",
       "      <th>UX</th>\n",
       "      <th>UY</th>\n",
       "      <th>UZ</th>\n",
       "      <th>step_length</th>\n",
       "      <th>E_kin</th>\n",
       "      <th>E_dep</th>\n",
       "      <th>track_length</th>\n",
       "    </tr>\n",
       "  </thead>\n",
       "  <tbody>\n",
       "    <tr>\n",
       "      <th>0</th>\n",
       "      <td>0</td>\n",
       "      <td>0</td>\n",
       "      <td>0.000</td>\n",
       "      <td>0.000</td>\n",
       "      <td>0.000</td>\n",
       "      <td>-0.933</td>\n",
       "      <td>0.297</td>\n",
       "      <td>0.203</td>\n",
       "      <td>0.000</td>\n",
       "      <td>2500.000</td>\n",
       "      <td>0.000</td>\n",
       "      <td>0.000</td>\n",
       "    </tr>\n",
       "    <tr>\n",
       "      <th>1</th>\n",
       "      <td>0</td>\n",
       "      <td>1</td>\n",
       "      <td>-0.027</td>\n",
       "      <td>0.009</td>\n",
       "      <td>0.006</td>\n",
       "      <td>-0.936</td>\n",
       "      <td>0.292</td>\n",
       "      <td>0.198</td>\n",
       "      <td>0.029</td>\n",
       "      <td>2499.640</td>\n",
       "      <td>0.360</td>\n",
       "      <td>0.029</td>\n",
       "    </tr>\n",
       "    <tr>\n",
       "      <th>2</th>\n",
       "      <td>0</td>\n",
       "      <td>2</td>\n",
       "      <td>-0.439</td>\n",
       "      <td>0.137</td>\n",
       "      <td>0.093</td>\n",
       "      <td>-0.893</td>\n",
       "      <td>-0.129</td>\n",
       "      <td>0.431</td>\n",
       "      <td>0.442</td>\n",
       "      <td>1497.843</td>\n",
       "      <td>1.408</td>\n",
       "      <td>0.471</td>\n",
       "    </tr>\n",
       "    <tr>\n",
       "      <th>3</th>\n",
       "      <td>0</td>\n",
       "      <td>3</td>\n",
       "      <td>-14.354</td>\n",
       "      <td>-1.875</td>\n",
       "      <td>6.806</td>\n",
       "      <td>0.353</td>\n",
       "      <td>0.797</td>\n",
       "      <td>-0.490</td>\n",
       "      <td>28.668</td>\n",
       "      <td>1234.405</td>\n",
       "      <td>263.438</td>\n",
       "      <td>29.139</td>\n",
       "    </tr>\n",
       "    <tr>\n",
       "      <th>4</th>\n",
       "      <td>0</td>\n",
       "      <td>4</td>\n",
       "      <td>-10.117</td>\n",
       "      <td>7.679</td>\n",
       "      <td>0.929</td>\n",
       "      <td>-0.769</td>\n",
       "      <td>-0.000</td>\n",
       "      <td>-0.640</td>\n",
       "      <td>22.817</td>\n",
       "      <td>1055.234</td>\n",
       "      <td>179.171</td>\n",
       "      <td>51.956</td>\n",
       "    </tr>\n",
       "  </tbody>\n",
       "</table>\n",
       "</div>"
      ],
      "text/plain": [
       "   event_number  step_number       X      Y      Z     UX     UY     UZ  \\\n",
       "0             0            0   0.000  0.000  0.000 -0.933  0.297  0.203   \n",
       "1             0            1  -0.027  0.009  0.006 -0.936  0.292  0.198   \n",
       "2             0            2  -0.439  0.137  0.093 -0.893 -0.129  0.431   \n",
       "3             0            3 -14.354 -1.875  6.806  0.353  0.797 -0.490   \n",
       "4             0            4 -10.117  7.679  0.929 -0.769 -0.000 -0.640   \n",
       "\n",
       "   step_length     E_kin    E_dep  track_length  \n",
       "0        0.000  2500.000    0.000         0.000  \n",
       "1        0.029  2499.640    0.360         0.029  \n",
       "2        0.442  1497.843    1.408         0.471  \n",
       "3       28.668  1234.405  263.438        29.139  \n",
       "4       22.817  1055.234  179.171        51.956  "
      ]
     },
     "execution_count": 8,
     "metadata": {},
     "output_type": "execute_result"
    }
   ],
   "source": [
    "df.head()"
   ]
  },
  {
   "cell_type": "code",
   "execution_count": 13,
   "metadata": {},
   "outputs": [],
   "source": [
    "@np.vectorize\n",
    "def cosine_direction(ux, uy, uz, u0x, u0y, u0z):\n",
    "    u  = np.array([ux,uy,uz])\n",
    "    u0 = np.array([u0x,u0y,u0z])\n",
    "    cosine = np.dot(u, u0)\n",
    "    return cosine\n",
    "    \n",
    "df['cosine'] = df.groupby('event_number').apply(lambda x : cosine_direction(x['UX'], x['UY'], x['UZ'], x.iloc[0]['UX'], x.iloc[0]['UY'], x.iloc[0]['UZ']))"
   ]
  },
  {
   "cell_type": "code",
   "execution_count": 14,
   "metadata": {},
   "outputs": [
    {
     "data": {
      "text/html": [
       "<div>\n",
       "<style scoped>\n",
       "    .dataframe tbody tr th:only-of-type {\n",
       "        vertical-align: middle;\n",
       "    }\n",
       "\n",
       "    .dataframe tbody tr th {\n",
       "        vertical-align: top;\n",
       "    }\n",
       "\n",
       "    .dataframe thead th {\n",
       "        text-align: right;\n",
       "    }\n",
       "</style>\n",
       "<table border=\"1\" class=\"dataframe\">\n",
       "  <thead>\n",
       "    <tr style=\"text-align: right;\">\n",
       "      <th></th>\n",
       "      <th>event_number</th>\n",
       "      <th>step_number</th>\n",
       "      <th>X</th>\n",
       "      <th>Y</th>\n",
       "      <th>Z</th>\n",
       "      <th>UX</th>\n",
       "      <th>UY</th>\n",
       "      <th>UZ</th>\n",
       "      <th>step_length</th>\n",
       "      <th>E_kin</th>\n",
       "      <th>E_dep</th>\n",
       "      <th>track_length</th>\n",
       "      <th>cosine</th>\n",
       "    </tr>\n",
       "  </thead>\n",
       "  <tbody>\n",
       "    <tr>\n",
       "      <th>0</th>\n",
       "      <td>0</td>\n",
       "      <td>0</td>\n",
       "      <td>0.000</td>\n",
       "      <td>0.000</td>\n",
       "      <td>0.000</td>\n",
       "      <td>-0.933</td>\n",
       "      <td>0.297</td>\n",
       "      <td>0.203</td>\n",
       "      <td>0.000</td>\n",
       "      <td>2500.000</td>\n",
       "      <td>0.000</td>\n",
       "      <td>0.000</td>\n",
       "      <td>[0.9999069999999999, 1.000206, 0.8823489999999...</td>\n",
       "    </tr>\n",
       "    <tr>\n",
       "      <th>1</th>\n",
       "      <td>0</td>\n",
       "      <td>1</td>\n",
       "      <td>-0.027</td>\n",
       "      <td>0.009</td>\n",
       "      <td>0.006</td>\n",
       "      <td>-0.936</td>\n",
       "      <td>0.292</td>\n",
       "      <td>0.198</td>\n",
       "      <td>0.029</td>\n",
       "      <td>2499.640</td>\n",
       "      <td>0.360</td>\n",
       "      <td>0.029</td>\n",
       "      <td>[1.000782, -0.4092519999999999, 0.225130999999...</td>\n",
       "    </tr>\n",
       "    <tr>\n",
       "      <th>2</th>\n",
       "      <td>0</td>\n",
       "      <td>2</td>\n",
       "      <td>-0.439</td>\n",
       "      <td>0.137</td>\n",
       "      <td>0.093</td>\n",
       "      <td>-0.893</td>\n",
       "      <td>-0.129</td>\n",
       "      <td>0.431</td>\n",
       "      <td>0.442</td>\n",
       "      <td>1497.843</td>\n",
       "      <td>1.408</td>\n",
       "      <td>0.471</td>\n",
       "      <td>[0.9996460000000001, 0.24442999999999998, 0.18...</td>\n",
       "    </tr>\n",
       "    <tr>\n",
       "      <th>3</th>\n",
       "      <td>0</td>\n",
       "      <td>3</td>\n",
       "      <td>-14.354</td>\n",
       "      <td>-1.875</td>\n",
       "      <td>6.806</td>\n",
       "      <td>0.353</td>\n",
       "      <td>0.797</td>\n",
       "      <td>-0.490</td>\n",
       "      <td>28.668</td>\n",
       "      <td>1234.405</td>\n",
       "      <td>263.438</td>\n",
       "      <td>29.139</td>\n",
       "      <td>[0.999934, 0.789094, 0.42818199999999995, 0.45...</td>\n",
       "    </tr>\n",
       "    <tr>\n",
       "      <th>4</th>\n",
       "      <td>0</td>\n",
       "      <td>4</td>\n",
       "      <td>-10.117</td>\n",
       "      <td>7.679</td>\n",
       "      <td>0.929</td>\n",
       "      <td>-0.769</td>\n",
       "      <td>-0.000</td>\n",
       "      <td>-0.640</td>\n",
       "      <td>22.817</td>\n",
       "      <td>1055.234</td>\n",
       "      <td>179.171</td>\n",
       "      <td>51.956</td>\n",
       "      <td>[1.0001380000000002, 0.9536380000000001, -0.63...</td>\n",
       "    </tr>\n",
       "  </tbody>\n",
       "</table>\n",
       "</div>"
      ],
      "text/plain": [
       "   event_number  step_number       X      Y      Z     UX     UY     UZ  \\\n",
       "0             0            0   0.000  0.000  0.000 -0.933  0.297  0.203   \n",
       "1             0            1  -0.027  0.009  0.006 -0.936  0.292  0.198   \n",
       "2             0            2  -0.439  0.137  0.093 -0.893 -0.129  0.431   \n",
       "3             0            3 -14.354 -1.875  6.806  0.353  0.797 -0.490   \n",
       "4             0            4 -10.117  7.679  0.929 -0.769 -0.000 -0.640   \n",
       "\n",
       "   step_length     E_kin    E_dep  track_length  \\\n",
       "0        0.000  2500.000    0.000         0.000   \n",
       "1        0.029  2499.640    0.360         0.029   \n",
       "2        0.442  1497.843    1.408         0.471   \n",
       "3       28.668  1234.405  263.438        29.139   \n",
       "4       22.817  1055.234  179.171        51.956   \n",
       "\n",
       "                                              cosine  \n",
       "0  [0.9999069999999999, 1.000206, 0.8823489999999...  \n",
       "1  [1.000782, -0.4092519999999999, 0.225130999999...  \n",
       "2  [0.9996460000000001, 0.24442999999999998, 0.18...  \n",
       "3  [0.999934, 0.789094, 0.42818199999999995, 0.45...  \n",
       "4  [1.0001380000000002, 0.9536380000000001, -0.63...  "
      ]
     },
     "execution_count": 14,
     "metadata": {},
     "output_type": "execute_result"
    }
   ],
   "source": [
    "df.head()"
   ]
  }
 ],
 "metadata": {
  "kernelspec": {
   "display_name": "Python 3",
   "language": "python",
   "name": "python3"
  },
  "language_info": {
   "codemirror_mode": {
    "name": "ipython",
    "version": 3
   },
   "file_extension": ".py",
   "mimetype": "text/x-python",
   "name": "python",
   "nbconvert_exporter": "python",
   "pygments_lexer": "ipython3",
   "version": "3.7.4"
  }
 },
 "nbformat": 4,
 "nbformat_minor": 4
}
