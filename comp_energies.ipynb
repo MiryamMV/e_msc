{
 "cells": [
  {
   "cell_type": "code",
   "execution_count": 1,
   "metadata": {},
   "outputs": [],
   "source": [
    "import pandas as pd\n",
    "import numpy  as np\n",
    "import matplotlib.pyplot as plt\n",
    "\n",
    "from math   import sqrt\n",
    "from typing import List"
   ]
  },
  {
   "cell_type": "code",
   "execution_count": 3,
   "metadata": {},
   "outputs": [],
   "source": [
    "df_50   = pd.read_csv(\"data/data_50keV.csv\"  , header=0)\n",
    "df_500  = pd.read_csv(\"data/data_500keV.csv\" , header=0)\n",
    "df_1000 = pd.read_csv(\"data/data_1000keV.csv\", header=0)\n",
    "df_1500 = pd.read_csv(\"data/data_1500keV.csv\", header=0)\n",
    "df_2000 = pd.read_csv(\"data/data_2000keV.csv\", header=0)\n",
    "df_2500 = pd.read_csv(\"data/data_2500keV.csv\", header=0)"
   ]
  },
  {
   "cell_type": "code",
   "execution_count": 4,
   "metadata": {},
   "outputs": [],
   "source": [
    "mask = df_50.track_id   == 1\n",
    "df_50 = df_50[mask]\n",
    "mask = df_500.track_id  == 1\n",
    "df_500 = df_500[mask]\n",
    "mask = df_1000.track_id == 1\n",
    "df_1000 = df_1000[mask]\n",
    "mask = df_1500.track_id == 1\n",
    "df_1500 = df_1500[mask]\n",
    "mask = df_2000.track_id == 1\n",
    "df_2000 = df_2000[mask]\n",
    "mask = df_2500.track_id == 1\n",
    "df_2500 = df_2500[mask]"
   ]
  },
  {
   "cell_type": "code",
   "execution_count": 5,
   "metadata": {},
   "outputs": [],
   "source": [
    "dist_50 = pd.DataFrame({'xdist': df_50.groupby('event_number')['x'].max() - df_50.groupby('event_number')['x'].min(), \n",
    "                        'ydist': df_50.groupby('event_number')['y'].max() - df_50.groupby('event_number')['y'].min(), \n",
    "                        'zdist': df_50.groupby('event_number')['z'].max() - df_50.groupby('event_number')['z'].min()})"
   ]
  },
  {
   "cell_type": "code",
   "execution_count": 6,
   "metadata": {},
   "outputs": [],
   "source": [
    "dist_500 = pd.DataFrame({'xdist': df_500.groupby('event_number')['x'].max() - df_500.groupby('event_number')['x'].min(), \n",
    "                         'ydist': df_500.groupby('event_number')['y'].max() - df_500.groupby('event_number')['y'].min(), \n",
    "                         'zdist': df_500.groupby('event_number')['z'].max() - df_500.groupby('event_number')['z'].min()})"
   ]
  },
  {
   "cell_type": "code",
   "execution_count": 7,
   "metadata": {},
   "outputs": [],
   "source": [
    "dist_1000 = pd.DataFrame({'xdist': df_1000.groupby('event_number')['x'].max() - df_1000.groupby('event_number')['x'].min(), \n",
    "                          'ydist': df_1000.groupby('event_number')['y'].max() - df_1000.groupby('event_number')['y'].min(), \n",
    "                          'zdist': df_1000.groupby('event_number')['z'].max() - df_1000.groupby('event_number')['z'].min()})"
   ]
  },
  {
   "cell_type": "code",
   "execution_count": 8,
   "metadata": {},
   "outputs": [],
   "source": [
    "dist_1500 = pd.DataFrame({'xdist': df_1500.groupby('event_number')['x'].max() - df_1500.groupby('event_number')['x'].min(), \n",
    "                          'ydist': df_1500.groupby('event_number')['y'].max() - df_1500.groupby('event_number')['y'].min(), \n",
    "                          'zdist': df_1500.groupby('event_number')['z'].max() - df_1500.groupby('event_number')['z'].min()})"
   ]
  },
  {
   "cell_type": "code",
   "execution_count": 9,
   "metadata": {},
   "outputs": [],
   "source": [
    "dist_2000 = pd.DataFrame({'xdist': df_2000.groupby('event_number')['x'].max() - df_2000.groupby('event_number')['x'].min(), \n",
    "                          'ydist': df_2000.groupby('event_number')['y'].max() - df_2000.groupby('event_number')['y'].min(), \n",
    "                          'zdist': df_2000.groupby('event_number')['z'].max() - df_2000.groupby('event_number')['z'].min()})"
   ]
  },
  {
   "cell_type": "code",
   "execution_count": 10,
   "metadata": {},
   "outputs": [],
   "source": [
    "dist_2500 = pd.DataFrame({'xdist': df_2500.groupby('event_number')['x'].max() - df_2500.groupby('event_number')['x'].min(), \n",
    "                          'ydist': df_2500.groupby('event_number')['y'].max() - df_2500.groupby('event_number')['y'].min(), \n",
    "                          'zdist': df_2500.groupby('event_number')['z'].max() - df_2500.groupby('event_number')['z'].min()})"
   ]
  },
  {
   "cell_type": "code",
   "execution_count": 2,
   "metadata": {},
   "outputs": [],
   "source": [
    "def diagonal(row):\n",
    "    return sqrt(row['xdist']**2 + row['ydist']**2 + row['zdist']**2)"
   ]
  },
  {
   "cell_type": "code",
   "execution_count": 12,
   "metadata": {},
   "outputs": [],
   "source": [
    "dist_50  ['diag'] = dist_50  .apply(diagonal, axis=1)\n",
    "dist_500 ['diag'] = dist_500 .apply(diagonal, axis=1)\n",
    "dist_1000['diag'] = dist_1000.apply(diagonal, axis=1)\n",
    "dist_1500['diag'] = dist_1500.apply(diagonal, axis=1)\n",
    "dist_2000['diag'] = dist_2000.apply(diagonal, axis=1)\n",
    "dist_2500['diag'] = dist_2500.apply(diagonal, axis=1)"
   ]
  },
  {
   "cell_type": "code",
   "execution_count": 16,
   "metadata": {},
   "outputs": [
    {
     "data": {
      "text/plain": [
       "Text(0, 0.5, 'Frequency')"
      ]
     },
     "execution_count": 16,
     "metadata": {},
     "output_type": "execute_result"
    },
    {
     "data": {
      "image/png": "[encoded data removed]",
      "text/plain": [
       "<Figure size 432x288 with 1 Axes>"
      ]
     },
     "metadata": {
      "needs_background": "light"
     },
     "output_type": "display_data"
    }
   ],
   "source": [
    "plt.hist(dist_50  .diag, bins=50, histtype=\"step\", density=True, label=\"50keV\"  )\n",
    "plt.hist(dist_500 .diag, bins=50, histtype=\"step\", density=True, label=\"500keV\" )\n",
    "plt.hist(dist_1000.diag, bins=50, histtype=\"step\", density=True, label=\"1000keV\")\n",
    "plt.hist(dist_1500.diag, bins=50, histtype=\"step\", density=True, label=\"1500keV\")\n",
    "plt.hist(dist_2000.diag, bins=50, histtype=\"step\", density=True, label=\"2000keV\")\n",
    "plt.hist(dist_2500.diag, bins=50, histtype=\"step\", density=True, label=\"2500keV\")\n",
    "plt.legend()\n",
    "plt.xlabel(\"Diagonal (mm)\")\n",
    "plt.ylabel(\"Frequency\")\n",
    "#plt.xlim(0,50)\n",
    "#plt.ylim(0,0.002)"
   ]
  },
  {
   "cell_type": "code",
   "execution_count": 19,
   "metadata": {},
   "outputs": [
    {
     "data": {
      "text/plain": [
       "(array([0.00026604, 0.00026604, 0.0006651 , 0.00093114, 0.0006651 ,\n",
       "        0.00106416, 0.00226134, 0.00332551, 0.00412363, 0.00558685,\n",
       "        0.00744913, 0.01077464, 0.01543035, 0.01742565, 0.02660405,\n",
       "        0.03777775, 0.04070419, 0.04935051, 0.06012515, 0.06956959,\n",
       "        0.07369321, 0.0782159 , 0.0782159 , 0.08393577, 0.08180745,\n",
       "        0.07808288, 0.07449133, 0.0670422 , 0.06198743, 0.05613454,\n",
       "        0.04748823, 0.04097023, 0.03804379, 0.02806727, 0.0210172 ,\n",
       "        0.01769169, 0.01223786, 0.01064162, 0.00798121, 0.00452269,\n",
       "        0.00412363, 0.00425665, 0.00119718, 0.00119718, 0.00106416,\n",
       "        0.0006651 , 0.00053208, 0.00013302, 0.00013302, 0.00026604]),\n",
       " array([ 3.11841675,  3.87018204,  4.62194734,  5.37371264,  6.12547794,\n",
       "         6.87724324,  7.62900853,  8.38077383,  9.13253913,  9.88430443,\n",
       "        10.63606973, 11.38783502, 12.13960032, 12.89136562, 13.64313092,\n",
       "        14.39489622, 15.14666152, 15.89842681, 16.65019211, 17.40195741,\n",
       "        18.15372271, 18.90548801, 19.6572533 , 20.4090186 , 21.1607839 ,\n",
       "        21.9125492 , 22.6643145 , 23.41607979, 24.16784509, 24.91961039,\n",
       "        25.67137569, 26.42314099, 27.17490628, 27.92667158, 28.67843688,\n",
       "        29.43020218, 30.18196748, 30.93373278, 31.68549807, 32.43726337,\n",
       "        33.18902867, 33.94079397, 34.69255927, 35.44432456, 36.19608986,\n",
       "        36.94785516, 37.69962046, 38.45138576, 39.20315105, 39.95491635,\n",
       "        40.70668165]),\n",
       " <a list of 1 Patch objects>)"
      ]
     },
     "execution_count": 19,
     "metadata": {},
     "output_type": "execute_result"
    },
    {
     "data": {
      "image/png": "[encoded data removed]",
      "text/plain": [
       "<Figure size 432x288 with 1 Axes>"
      ]
     },
     "metadata": {
      "needs_background": "light"
     },
     "output_type": "display_data"
    }
   ],
   "source": [
    "plt.hist(dist_50  .diag, bins=50, histtype=\"step\", density=True, label=\"50keV\"  );\n",
    "plt.hist(dist_500  .diag, bins=50, histtype=\"step\", density=True, label=\"50keV\"  );"
   ]
  },
  {
   "cell_type": "code",
   "execution_count": 3,
   "metadata": {},
   "outputs": [],
   "source": [
    "df_50_nolim   = pd.read_csv(\"data/data_50keV_nolim.csv\"  , header=0)\n",
    "df_500_nolim  = pd.read_csv(\"data/data_500keV_nolim.csv\" , header=0)\n",
    "df_1000_nolim = pd.read_csv(\"data/data_1000keV_nolim.csv\", header=0)\n",
    "df_1500_nolim = pd.read_csv(\"data/data_1500keV_nolim.csv\", header=0)\n",
    "df_2000_nolim = pd.read_csv(\"data/data_2000keV_nolim.csv\", header=0)\n",
    "df_2500_nolim = pd.read_csv(\"data/data_2500keV_nolim.csv\", header=0)"
   ]
  },
  {
   "cell_type": "code",
   "execution_count": 4,
   "metadata": {},
   "outputs": [],
   "source": [
    "mask = df_50_nolim.track_id   == 1\n",
    "df_50_nolim = df_50_nolim[mask]\n",
    "mask = df_500_nolim.track_id  == 1\n",
    "df_500_nolim = df_500_nolim[mask]\n",
    "mask = df_1000_nolim.track_id == 1\n",
    "df_1000_nolim = df_1000_nolim[mask]\n",
    "mask = df_1500_nolim.track_id == 1\n",
    "df_1500_nolim = df_1500_nolim[mask]\n",
    "mask = df_2000_nolim.track_id == 1\n",
    "df_2000_nolim = df_2000_nolim[mask]\n",
    "mask = df_2500_nolim.track_id == 1\n",
    "df_2500_nolim = df_2500_nolim[mask]"
   ]
  },
  {
   "cell_type": "code",
   "execution_count": 5,
   "metadata": {},
   "outputs": [],
   "source": [
    "dist_50_nolim = pd.DataFrame({'xdist': df_50_nolim.groupby('event_number')['x'].max() - df_50_nolim.groupby('event_number')['x'].min(), \n",
    "                              'ydist': df_50_nolim.groupby('event_number')['y'].max() - df_50_nolim.groupby('event_number')['y'].min(), \n",
    "                              'zdist': df_50_nolim.groupby('event_number')['z'].max() - df_50_nolim.groupby('event_number')['z'].min()})"
   ]
  },
  {
   "cell_type": "code",
   "execution_count": 6,
   "metadata": {},
   "outputs": [],
   "source": [
    "dist_500_nolim = pd.DataFrame({'xdist': df_500_nolim.groupby('event_number')['x'].max() - df_500_nolim.groupby('event_number')['x'].min(), \n",
    "                               'ydist': df_500_nolim.groupby('event_number')['y'].max() - df_500_nolim.groupby('event_number')['y'].min(), \n",
    "                               'zdist': df_500_nolim.groupby('event_number')['z'].max() - df_500_nolim.groupby('event_number')['z'].min()})"
   ]
  },
  {
   "cell_type": "code",
   "execution_count": 7,
   "metadata": {},
   "outputs": [],
   "source": [
    "dist_1000_nolim = pd.DataFrame({'xdist': df_1000_nolim.groupby('event_number')['x'].max() - df_1000_nolim.groupby('event_number')['x'].min(), \n",
    "                                'ydist': df_1000_nolim.groupby('event_number')['y'].max() - df_1000_nolim.groupby('event_number')['y'].min(), \n",
    "                                'zdist': df_1000_nolim.groupby('event_number')['z'].max() - df_1000_nolim.groupby('event_number')['z'].min()})"
   ]
  },
  {
   "cell_type": "code",
   "execution_count": 8,
   "metadata": {},
   "outputs": [],
   "source": [
    "dist_1500_nolim = pd.DataFrame({'xdist': df_1500_nolim.groupby('event_number')['x'].max() - df_1500_nolim.groupby('event_number')['x'].min(), \n",
    "                                'ydist': df_1500_nolim.groupby('event_number')['y'].max() - df_1500_nolim.groupby('event_number')['y'].min(), \n",
    "                                'zdist': df_1500_nolim.groupby('event_number')['z'].max() - df_1500_nolim.groupby('event_number')['z'].min()})"
   ]
  },
  {
   "cell_type": "code",
   "execution_count": 9,
   "metadata": {},
   "outputs": [],
   "source": [
    "dist_2000_nolim = pd.DataFrame({'xdist': df_2000_nolim.groupby('event_number')['x'].max() - df_2000_nolim.groupby('event_number')['x'].min(), \n",
    "                                'ydist': df_2000_nolim.groupby('event_number')['y'].max() - df_2000_nolim.groupby('event_number')['y'].min(), \n",
    "                                'zdist': df_2000_nolim.groupby('event_number')['z'].max() - df_2000_nolim.groupby('event_number')['z'].min()})"
   ]
  },
  {
   "cell_type": "code",
   "execution_count": 11,
   "metadata": {},
   "outputs": [],
   "source": [
    "dist_2500_nolim = pd.DataFrame({'xdist': df_2500_nolim.groupby('event_number')['x'].max() - df_2500_nolim.groupby('event_number')['x'].min(), \n",
    "                                'ydist': df_2500_nolim.groupby('event_number')['y'].max() - df_2500_nolim.groupby('event_number')['y'].min(), \n",
    "                                'zdist': df_2500_nolim.groupby('event_number')['z'].max() - df_2500_nolim.groupby('event_number')['z'].min()})"
   ]
  },
  {
   "cell_type": "code",
   "execution_count": 12,
   "metadata": {},
   "outputs": [],
   "source": [
    "dist_50_nolim  ['diag'] = dist_50_nolim  .apply(diagonal, axis=1)\n",
    "dist_500_nolim ['diag'] = dist_500_nolim .apply(diagonal, axis=1)\n",
    "dist_1000_nolim['diag'] = dist_1000_nolim.apply(diagonal, axis=1)\n",
    "dist_1500_nolim['diag'] = dist_1500_nolim.apply(diagonal, axis=1)\n",
    "dist_2000_nolim['diag'] = dist_2000_nolim.apply(diagonal, axis=1)\n",
    "dist_2500_nolim['diag'] = dist_2500_nolim.apply(diagonal, axis=1)"
   ]
  },
  {
   "cell_type": "code",
   "execution_count": 19,
   "metadata": {},
   "outputs": [
    {
     "data": {
      "text/plain": [
       "(-2.5, 2.5)"
      ]
     },
     "execution_count": 19,
     "metadata": {},
     "output_type": "execute_result"
    },
    {
     "data": {
      "image/png": "[encoded data removed]",
      "text/plain": [
       "<Figure size 432x288 with 1 Axes>"
      ]
     },
     "metadata": {
      "needs_background": "light"
     },
     "output_type": "display_data"
    }
   ],
   "source": [
    "plt.hist(dist_50_nolim  .diag, bins=50, histtype=\"step\", density=True, label=\"50keV\"  )\n",
    "plt.hist(dist_500_nolim .diag, bins=50, histtype=\"step\", density=True, label=\"500keV\" )\n",
    "plt.hist(dist_1000_nolim.diag, bins=50, histtype=\"step\", density=True, label=\"1000keV\")\n",
    "plt.hist(dist_1500_nolim.diag, bins=50, histtype=\"step\", density=True, label=\"1500keV\")\n",
    "plt.hist(dist_2000_nolim.diag, bins=50, histtype=\"step\", density=True, label=\"2000keV\")\n",
    "plt.hist(dist_2500_nolim.diag, bins=50, histtype=\"step\", density=True, label=\"2500keV\")\n",
    "plt.legend()\n",
    "plt.title(\"Not Limited\")\n",
    "plt.xlabel(\"Diagonal (mm)\")\n",
    "plt.ylabel(\"Frequency\")\n",
    "plt.xlim(-2.5,2.5)\n",
    "#plt.ylim(0,0.5)"
   ]
  },
  {
   "cell_type": "code",
   "execution_count": null,
   "metadata": {},
   "outputs": [],
   "source": []
  },
  {
   "cell_type": "code",
   "execution_count": 20,
   "metadata": {},
   "outputs": [
    {
     "ename": "NameError",
     "evalue": "name 'prueba' is not defined",
     "output_type": "error",
     "traceback": [
      "\u001b[0;31m---------------------------------------------------------------------------\u001b[0m",
      "\u001b[0;31mNameError\u001b[0m                                 Traceback (most recent call last)",
      "\u001b[0;32m<ipython-input-20-5c7b760a8c20>\u001b[0m in \u001b[0;36m<module>\u001b[0;34m\u001b[0m\n\u001b[0;32m----> 1\u001b[0;31m \u001b[0mprueba\u001b[0m\u001b[0;34m\u001b[0m\u001b[0;34m\u001b[0m\u001b[0m\n\u001b[0m",
      "\u001b[0;31mNameError\u001b[0m: name 'prueba' is not defined"
     ]
    }
   ],
   "source": [
    "prueba"
   ]
  }
 ],
 "metadata": {
  "kernelspec": {
   "display_name": "Python 3",
   "language": "python",
   "name": "python3"
  },
  "language_info": {
   "codemirror_mode": {
    "name": "ipython",
    "version": 3
   },
   "file_extension": ".py",
   "mimetype": "text/x-python",
   "name": "python",
   "nbconvert_exporter": "python",
   "pygments_lexer": "ipython3",
   "version": "3.7.6"
  }
 },
 "nbformat": 4,
 "nbformat_minor": 4
}
